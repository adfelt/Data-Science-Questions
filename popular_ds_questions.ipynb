{
 "cells": [
  {
   "source": [
    "# Popular Data Science Questions\n",
    "\n",
    "[Stack Exchange](https://stackexchange.com/) is an extremely popular Q & A platform for a variety of software, IT, math, and \"pretty much any other technical\" question you can think of. \n",
    "\n",
    "They are most well known for their software question and answer platform [Stack Overflow](https://stackoverflow.com/).\n",
    "\n",
    "For this project we will be taking a look at some of the more popular questions on a less known Stack Exchange site: [Data Science Stack-Exchange](https://datascience.stackexchange.com/)."
   ],
   "cell_type": "markdown",
   "metadata": {}
  },
  {
   "source": [
    "### Questions for Data Science Stack Exchange\n",
    "\n",
    " - What kind of questions are welcome\n",
    "    - Questions about machine learning, algorithims, and any other relevant data science question.\n",
    " \n",
    " - How does the home screen subdivide their questions:\n",
    "    - Active, Bountied, Hot, Week, and Month\n",
    " \n",
    " - They also divide the navigation bar into several different sections:\n",
    "\n",
    "      1. Home \n",
    "      2. Questions \n",
    "      3. Tags \n",
    "      4. Users\n",
    "      5. Unanswered"
   ],
   "cell_type": "markdown",
   "metadata": {}
  },
  {
   "source": [
    "Luckily Stack Exchange provides an open source [Data Base](https://data.stackexchange.com/datascience/query/new) we can query to find useful information. \n",
    "\n",
    "#### Promising Tables:\n",
    "\n",
    " 1. Posts\n",
    " 2. Users \n",
    " 3. Votes\n",
    " 4. Tags\n",
    " 5. PostTypes\n"
   ],
   "cell_type": "markdown",
   "metadata": {}
  },
  {
   "source": [
    "I created a query that collected these items from Stack Exchanges's website.\n",
    "\n",
    "*SELECT Id, PostTypeId, CreationDate, Score, ViewCount,\n",
    "       Tags, AnswerCount, FavoriteCount*\n",
    "\n",
    " *FROM posts*\n",
    "\n",
    " *WHERE PostTypeID = 1 OR PostTypeID = 2 \n",
    "   AND CreationDate BETWEEN '2019-01-01' AND '2021-01-01';*\n",
    "\n",
    "---\n",
    "\n",
    "\n",
    "This queried all the selected columns and only included questions, answers, and recent posts.\n",
    "\n",
    "**Specifically between 2019 and 2020.**"
   ],
   "cell_type": "markdown",
   "metadata": {}
  },
  {
   "source": [
    "### Analysis:\n",
    "\n",
    "Let's start by reading in the dataset that we downloaded and exploring the data frame."
   ],
   "cell_type": "markdown",
   "metadata": {}
  },
  {
   "cell_type": "code",
   "execution_count": null,
   "metadata": {},
   "outputs": [],
   "source": []
  }
 ],
 "metadata": {
  "kernelspec": {
   "display_name": "Python 3",
   "language": "python",
   "name": "python3"
  },
  "language_info": {
   "codemirror_mode": {
    "name": "ipython",
    "version": 3
   },
   "file_extension": ".py",
   "mimetype": "text/x-python",
   "name": "python",
   "nbconvert_exporter": "python",
   "pygments_lexer": "ipython3",
   "version": "3.6.4"
  }
 },
 "nbformat": 4,
 "nbformat_minor": 2
}