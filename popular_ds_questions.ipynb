{
 "cells": [
  {
   "source": [
    "# Popular Data Science Questions\n",
    "\n",
    "[Stack Exchange](https://stackexchange.com/) is an extremely popular Q & A platform for a variety of software, IT, math, and \"pretty much any other technical\" question you can think of. \n",
    "\n",
    "They are most well known for their software question and answer platform [Stack Overflow](https://stackoverflow.com/).\n",
    "\n",
    "For this project we will be taking a look at some of the more popular questions on a less known Stack Exchange site: [Data Science Stack-Exchange](https://datascience.stackexchange.com/)."
   ],
   "cell_type": "markdown",
   "metadata": {}
  },
  {
   "source": [
    "### Questions for Data Science Stack Exchange\n",
    "\n",
    " - What kind of questions are welcome\n",
    "    - Questions about machine learning, algorithims, and any other relevant data science question.\n",
    " \n",
    " - How does the home screen subdivide their questions:\n",
    "    - Active, Bountied, Hot, Week, and Month\n",
    " \n",
    " - They also divide the navigation bar into several different sections:\n",
    "\n",
    "      1. Home \n",
    "      2. Questions \n",
    "      3. Tags \n",
    "      4. Users\n",
    "      5. Unanswered"
   ],
   "cell_type": "markdown",
   "metadata": {}
  },
  {
   "source": [
    "Luckily Stack Exchange provides an open source [Data Base](https://data.stackexchange.com/datascience/query/new) we can query to find useful information. \n",
    "\n",
    "#### Promising Tables:\n",
    "\n",
    " 1. Posts\n",
    " 2. Users \n",
    " 3. Votes\n",
    " 4. Tags\n",
    " 5. PostTypes\n"
   ],
   "cell_type": "markdown",
   "metadata": {}
  },
  {
   "source": [
    "I created a query that collected these items from Stack Exchanges's website.\n",
    "\n",
    "*SELECT Id, PostTypeId, CreationDate, Score, ViewCount,\n",
    "       Tags, AnswerCount, FavoriteCount*\n",
    "\n",
    " *FROM posts*\n",
    "\n",
    " *WHERE PostTypeID = 1 OR PostTypeID = 2 \n",
    "   AND CreationDate BETWEEN '2019-01-01' AND '2021-01-01';*\n",
    "\n",
    "---\n",
    "\n",
    "\n",
    "This queried all the selected columns and only included questions, answers, and recent posts.\n",
    "\n",
    "**Specifically between 2019 and 2020.**"
   ],
   "cell_type": "markdown",
   "metadata": {}
  },
  {
   "source": [
    "### Analysis:\n",
    "\n",
    "Let's start by reading in the dataset that we downloaded and exploring the data frame."
   ],
   "cell_type": "markdown",
   "metadata": {}
  },
  {
   "cell_type": "code",
   "execution_count": 1,
   "metadata": {},
   "outputs": [],
   "source": [
    "import numpy as np \n",
    "import pandas as pd"
   ]
  },
  {
   "cell_type": "code",
   "execution_count": 2,
   "metadata": {},
   "outputs": [],
   "source": [
    "ds_q_and_a = pd.read_csv('__data__/QueryResults.csv')"
   ]
  },
  {
   "cell_type": "code",
   "execution_count": 3,
   "metadata": {},
   "outputs": [
    {
     "output_type": "stream",
     "name": "stdout",
     "text": [
      "<class 'pandas.core.frame.DataFrame'>\nRangeIndex: 42421 entries, 0 to 42420\nData columns (total 8 columns):\n #   Column         Non-Null Count  Dtype  \n---  ------         --------------  -----  \n 0   Id             42421 non-null  int64  \n 1   PostTypeId     42421 non-null  int64  \n 2   CreationDate   42421 non-null  object \n 3   Score          42421 non-null  int64  \n 4   ViewCount      27649 non-null  float64\n 5   Tags           27649 non-null  object \n 6   AnswerCount    27649 non-null  float64\n 7   FavoriteCount  7627 non-null   float64\ndtypes: float64(3), int64(3), object(2)\nmemory usage: 2.6+ MB\n"
     ]
    }
   ],
   "source": [
    "# Exploring the data\n",
    "ds_q_and_a.info()"
   ]
  },
  {
   "cell_type": "code",
   "execution_count": 4,
   "metadata": {},
   "outputs": [],
   "source": [
    "# Separating answers and questions\n",
    "ds_questions = ds_q_and_a[ds_q_and_a['PostTypeId'] == 1].copy()\n",
    "ds_answers = ds_q_and_a[ds_q_and_a['PostTypeId'] == 2].copy()"
   ]
  },
  {
   "cell_type": "code",
   "execution_count": 5,
   "metadata": {},
   "outputs": [
    {
     "output_type": "stream",
     "name": "stdout",
     "text": [
      "<class 'pandas.core.frame.DataFrame'>\nInt64Index: 27649 entries, 0 to 42420\nData columns (total 8 columns):\n #   Column         Non-Null Count  Dtype  \n---  ------         --------------  -----  \n 0   Id             27649 non-null  int64  \n 1   PostTypeId     27649 non-null  int64  \n 2   CreationDate   27649 non-null  object \n 3   Score          27649 non-null  int64  \n 4   ViewCount      27649 non-null  float64\n 5   Tags           27649 non-null  object \n 6   AnswerCount    27649 non-null  float64\n 7   FavoriteCount  7627 non-null   float64\ndtypes: float64(3), int64(3), object(2)\nmemory usage: 1.9+ MB\n"
     ]
    }
   ],
   "source": [
    "ds_questions.info()"
   ]
  },
  {
   "cell_type": "code",
   "execution_count": 6,
   "metadata": {},
   "outputs": [
    {
     "output_type": "execute_result",
     "data": {
      "text/plain": [
       "     Id  PostTypeId         CreationDate  Score  ViewCount  \\\n",
       "0  2627           1  2014-12-06 00:41:24      4      266.0   \n",
       "1  2628           1  2014-12-06 01:10:30      2      511.0   \n",
       "2  2629           1  2014-12-06 06:53:14      3      380.0   \n",
       "3  2631           1  2014-12-06 15:04:03      7     1161.0   \n",
       "4  2632           1  2014-12-06 17:56:53      3       35.0   \n",
       "\n",
       "                                                Tags  AnswerCount  \\\n",
       "0                        <javascript><visualization>          0.0   \n",
       "1                              <logistic-regression>          0.0   \n",
       "2                             <bigdata><definitions>          1.0   \n",
       "3  <machine-learning><data-mining><clustering><an...          5.0   \n",
       "4  <efficiency><map-reduce><performance><experime...          1.0   \n",
       "\n",
       "   FavoriteCount  \n",
       "0            NaN  \n",
       "1            NaN  \n",
       "2            NaN  \n",
       "3            1.0  \n",
       "4            NaN  "
      ],
      "text/html": "<div>\n<style scoped>\n    .dataframe tbody tr th:only-of-type {\n        vertical-align: middle;\n    }\n\n    .dataframe tbody tr th {\n        vertical-align: top;\n    }\n\n    .dataframe thead th {\n        text-align: right;\n    }\n</style>\n<table border=\"1\" class=\"dataframe\">\n  <thead>\n    <tr style=\"text-align: right;\">\n      <th></th>\n      <th>Id</th>\n      <th>PostTypeId</th>\n      <th>CreationDate</th>\n      <th>Score</th>\n      <th>ViewCount</th>\n      <th>Tags</th>\n      <th>AnswerCount</th>\n      <th>FavoriteCount</th>\n    </tr>\n  </thead>\n  <tbody>\n    <tr>\n      <th>0</th>\n      <td>2627</td>\n      <td>1</td>\n      <td>2014-12-06 00:41:24</td>\n      <td>4</td>\n      <td>266.0</td>\n      <td>&lt;javascript&gt;&lt;visualization&gt;</td>\n      <td>0.0</td>\n      <td>NaN</td>\n    </tr>\n    <tr>\n      <th>1</th>\n      <td>2628</td>\n      <td>1</td>\n      <td>2014-12-06 01:10:30</td>\n      <td>2</td>\n      <td>511.0</td>\n      <td>&lt;logistic-regression&gt;</td>\n      <td>0.0</td>\n      <td>NaN</td>\n    </tr>\n    <tr>\n      <th>2</th>\n      <td>2629</td>\n      <td>1</td>\n      <td>2014-12-06 06:53:14</td>\n      <td>3</td>\n      <td>380.0</td>\n      <td>&lt;bigdata&gt;&lt;definitions&gt;</td>\n      <td>1.0</td>\n      <td>NaN</td>\n    </tr>\n    <tr>\n      <th>3</th>\n      <td>2631</td>\n      <td>1</td>\n      <td>2014-12-06 15:04:03</td>\n      <td>7</td>\n      <td>1161.0</td>\n      <td>&lt;machine-learning&gt;&lt;data-mining&gt;&lt;clustering&gt;&lt;an...</td>\n      <td>5.0</td>\n      <td>1.0</td>\n    </tr>\n    <tr>\n      <th>4</th>\n      <td>2632</td>\n      <td>1</td>\n      <td>2014-12-06 17:56:53</td>\n      <td>3</td>\n      <td>35.0</td>\n      <td>&lt;efficiency&gt;&lt;map-reduce&gt;&lt;performance&gt;&lt;experime...</td>\n      <td>1.0</td>\n      <td>NaN</td>\n    </tr>\n  </tbody>\n</table>\n</div>"
     },
     "metadata": {},
     "execution_count": 6
    }
   ],
   "source": [
    "ds_questions.head()"
   ]
  },
  {
   "source": [
    "## Initial Analysis:\n",
    "\n",
    "How many missing values are in each column:\n",
    "\n",
    " - It looks like only *FavoriteCount* contains any missing rows.\n",
    "\n",
    "---\n",
    "\n",
    "Use ds_questions.info() to examine the *data types* of each column. "
   ],
   "cell_type": "markdown",
   "metadata": {}
  },
  {
   "cell_type": "code",
   "execution_count": 7,
   "metadata": {},
   "outputs": [],
   "source": [
    "# Fill the null values with 0\n",
    "ds_questions.fillna(0, inplace=True)"
   ]
  },
  {
   "cell_type": "code",
   "execution_count": 8,
   "metadata": {},
   "outputs": [],
   "source": [
    "# Change the CreationDate to Datetime object\n",
    "ds_questions.loc['CreationDate'] = pd.to_datetime(ds_questions['CreationDate'])"
   ]
  },
  {
   "cell_type": "code",
   "execution_count": 9,
   "metadata": {},
   "outputs": [
    {
     "output_type": "execute_result",
     "data": {
      "text/plain": [
       "'HELLO,WORLD'"
      ]
     },
     "metadata": {},
     "execution_count": 9
    }
   ],
   "source": [
    "# Convert the tags column into a comma separated column\n",
    "pattern = r'><'\n",
    "def convert_column(string):\n",
    "    new_string = str(string).replace(pattern,\",\")\n",
    "    new_string = new_string.replace(\">\",\"\")\n",
    "    new_string = new_string.replace(\"<\",\"\")\n",
    "    return new_string\n",
    "\n",
    "convert_column('<HELLO><WORLD>')"
   ]
  },
  {
   "cell_type": "code",
   "execution_count": 10,
   "metadata": {},
   "outputs": [],
   "source": [
    "# Apply the conversion done above\n",
    "ds_questions['Tags'] = ds_questions['Tags'].apply(convert_column)"
   ]
  },
  {
   "cell_type": "code",
   "execution_count": 12,
   "metadata": {},
   "outputs": [
    {
     "output_type": "execute_result",
     "data": {
      "text/plain": [
       "     Id PostTypeId         CreationDate Score  ViewCount  \\\n",
       "0  2627          1  2014-12-06 00:41:24     4      266.0   \n",
       "1  2628          1  2014-12-06 01:10:30     2      511.0   \n",
       "2  2629          1  2014-12-06 06:53:14     3      380.0   \n",
       "3  2631          1  2014-12-06 15:04:03     7     1161.0   \n",
       "4  2632          1  2014-12-06 17:56:53     3       35.0   \n",
       "\n",
       "                                                Tags  AnswerCount  \\\n",
       "0                           javascript,visualization          0.0   \n",
       "1                                logistic-regression          0.0   \n",
       "2                                bigdata,definitions          1.0   \n",
       "3  machine-learning,data-mining,clustering,anomal...          5.0   \n",
       "4      efficiency,map-reduce,performance,experiments          1.0   \n",
       "\n",
       "   FavoriteCount  \n",
       "0            0.0  \n",
       "1            0.0  \n",
       "2            0.0  \n",
       "3            1.0  \n",
       "4            0.0  "
      ],
      "text/html": "<div>\n<style scoped>\n    .dataframe tbody tr th:only-of-type {\n        vertical-align: middle;\n    }\n\n    .dataframe tbody tr th {\n        vertical-align: top;\n    }\n\n    .dataframe thead th {\n        text-align: right;\n    }\n</style>\n<table border=\"1\" class=\"dataframe\">\n  <thead>\n    <tr style=\"text-align: right;\">\n      <th></th>\n      <th>Id</th>\n      <th>PostTypeId</th>\n      <th>CreationDate</th>\n      <th>Score</th>\n      <th>ViewCount</th>\n      <th>Tags</th>\n      <th>AnswerCount</th>\n      <th>FavoriteCount</th>\n    </tr>\n  </thead>\n  <tbody>\n    <tr>\n      <th>0</th>\n      <td>2627</td>\n      <td>1</td>\n      <td>2014-12-06 00:41:24</td>\n      <td>4</td>\n      <td>266.0</td>\n      <td>javascript,visualization</td>\n      <td>0.0</td>\n      <td>0.0</td>\n    </tr>\n    <tr>\n      <th>1</th>\n      <td>2628</td>\n      <td>1</td>\n      <td>2014-12-06 01:10:30</td>\n      <td>2</td>\n      <td>511.0</td>\n      <td>logistic-regression</td>\n      <td>0.0</td>\n      <td>0.0</td>\n    </tr>\n    <tr>\n      <th>2</th>\n      <td>2629</td>\n      <td>1</td>\n      <td>2014-12-06 06:53:14</td>\n      <td>3</td>\n      <td>380.0</td>\n      <td>bigdata,definitions</td>\n      <td>1.0</td>\n      <td>0.0</td>\n    </tr>\n    <tr>\n      <th>3</th>\n      <td>2631</td>\n      <td>1</td>\n      <td>2014-12-06 15:04:03</td>\n      <td>7</td>\n      <td>1161.0</td>\n      <td>machine-learning,data-mining,clustering,anomal...</td>\n      <td>5.0</td>\n      <td>1.0</td>\n    </tr>\n    <tr>\n      <th>4</th>\n      <td>2632</td>\n      <td>1</td>\n      <td>2014-12-06 17:56:53</td>\n      <td>3</td>\n      <td>35.0</td>\n      <td>efficiency,map-reduce,performance,experiments</td>\n      <td>1.0</td>\n      <td>0.0</td>\n    </tr>\n  </tbody>\n</table>\n</div>"
     },
     "metadata": {},
     "execution_count": 12
    }
   ],
   "source": [
    "# Make sure everything looks right. \n",
    "ds_questions.head()"
   ]
  },
  {
   "cell_type": "code",
   "execution_count": null,
   "metadata": {},
   "outputs": [],
   "source": []
  }
 ],
 "metadata": {
  "kernelspec": {
   "display_name": "Python 3",
   "language": "python",
   "name": "python3"
  },
  "language_info": {
   "codemirror_mode": {
    "name": "ipython",
    "version": 3
   },
   "file_extension": ".py",
   "mimetype": "text/x-python",
   "name": "python",
   "nbconvert_exporter": "python",
   "pygments_lexer": "ipython3",
   "version": "3.9.1-final"
  }
 },
 "nbformat": 4,
 "nbformat_minor": 2
}